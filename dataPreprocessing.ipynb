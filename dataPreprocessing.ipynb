{
 "cells": [
  {
   "cell_type": "code",
   "execution_count": 1,
   "id": "28f0b1e6",
   "metadata": {},
   "outputs": [
    {
     "name": "stderr",
     "output_type": "stream",
     "text": [
      "<>:4: SyntaxWarning: invalid escape sequence '\\I'\n",
      "<>:4: SyntaxWarning: invalid escape sequence '\\I'\n",
      "C:\\Users\\Mani\\AppData\\Local\\Temp\\ipykernel_964\\4156678448.py:4: SyntaxWarning: invalid escape sequence '\\I'\n",
      "  file_path = \"F:\\InternShip\\\\\\Booking.com-Data-Scraping\\\\property_booking.csv\"\n"
     ]
    },
    {
     "name": "stdout",
     "output_type": "stream",
     "text": [
      "Initial Dataset Shape: (1286, 8)\n",
      "      City Property Type                                               Name  \\\n",
      "0  Karachi     apartment                                      Room for rent   \n",
      "1  Karachi     apartment  Prestige comfort apartments separate lounge wi...   \n",
      "2  Karachi     apartment                                           YS Rooms   \n",
      "3  Karachi     apartment                                   Prestige Comfort   \n",
      "4  Karachi     apartment                                  Prestige comforts   \n",
      "\n",
      "   Rating  Reviews Count Location  \\\n",
      "0     NaN            NaN  Karachi   \n",
      "1     NaN            NaN  Karachi   \n",
      "2     NaN            NaN  Karachi   \n",
      "3     NaN            NaN  Karachi   \n",
      "4     NaN            NaN  Karachi   \n",
      "\n",
      "                                           Image URL  \\\n",
      "0  https://cf.bstatic.com/xdata/images/hotel/squa...   \n",
      "1  https://cf.bstatic.com/xdata/images/hotel/squa...   \n",
      "2  https://cf.bstatic.com/xdata/images/hotel/squa...   \n",
      "3  https://cf.bstatic.com/xdata/images/hotel/squa...   \n",
      "4  https://cf.bstatic.com/xdata/images/hotel/squa...   \n",
      "\n",
      "                                          Image Path  \n",
      "0                 images_apartment\\Room_for_rent.jpg  \n",
      "1  images_apartment\\Prestige_comfort_apartments_s...  \n",
      "2                      images_apartment\\YS_Rooms.jpg  \n",
      "3              images_apartment\\Prestige_Comfort.jpg  \n",
      "4             images_apartment\\Prestige_comforts.jpg  \n"
     ]
    }
   ],
   "source": [
    "# Step 0: Import libraries and load dataset\n",
    "import pandas as pd\n",
    "\n",
    "file_path = \"F:\\InternShip\\\\\\Booking.com-Data-Scraping\\\\property_booking.csv\"  \n",
    "df = pd.read_csv(file_path)\n",
    "\n",
    "print(\"Initial Dataset Shape:\", df.shape)\n",
    "print(df.head())\n"
   ]
  },
  {
   "cell_type": "code",
   "execution_count": 2,
   "id": "06dbc49a",
   "metadata": {},
   "outputs": [
    {
     "name": "stdout",
     "output_type": "stream",
     "text": [
      "\\dataset info\n",
      "<class 'pandas.core.frame.DataFrame'>\n",
      "RangeIndex: 1286 entries, 0 to 1285\n",
      "Data columns (total 8 columns):\n",
      " #   Column         Non-Null Count  Dtype  \n",
      "---  ------         --------------  -----  \n",
      " 0   City           1286 non-null   object \n",
      " 1   Property Type  1286 non-null   object \n",
      " 2   Name           1286 non-null   object \n",
      " 3   Rating         816 non-null    float64\n",
      " 4   Reviews Count  816 non-null    float64\n",
      " 5   Location       1286 non-null   object \n",
      " 6   Image URL      1286 non-null   object \n",
      " 7   Image Path     1286 non-null   object \n",
      "dtypes: float64(2), object(6)\n",
      "memory usage: 80.5+ KB\n",
      "None\n"
     ]
    },
    {
     "name": "stderr",
     "output_type": "stream",
     "text": [
      "<>:2: SyntaxWarning: invalid escape sequence '\\d'\n",
      "<>:2: SyntaxWarning: invalid escape sequence '\\d'\n",
      "C:\\Users\\Mani\\AppData\\Local\\Temp\\ipykernel_964\\1309254927.py:2: SyntaxWarning: invalid escape sequence '\\d'\n",
      "  print('\\dataset info')\n"
     ]
    }
   ],
   "source": [
    "# inspect Dataset\n",
    "print('\\dataset info')\n",
    "print(df.info())"
   ]
  },
  {
   "cell_type": "code",
   "execution_count": 4,
   "id": "bd0edf70",
   "metadata": {},
   "outputs": [
    {
     "name": "stdout",
     "output_type": "stream",
     "text": [
      "\n",
      "Missing values per column:\n",
      "City               0\n",
      "Property Type      0\n",
      "Name               0\n",
      "Rating           470\n",
      "Reviews Count    470\n",
      "Location           0\n",
      "Image URL          0\n",
      "Image Path         0\n",
      "dtype: int64\n"
     ]
    }
   ],
   "source": [
    "\n",
    "print(\"\\nMissing values per column:\")\n",
    "print(df.isnull().sum())"
   ]
  },
  {
   "cell_type": "code",
   "execution_count": 5,
   "id": "96ac6976",
   "metadata": {},
   "outputs": [
    {
     "name": "stdout",
     "output_type": "stream",
     "text": [
      "\n",
      "After removing duplicates: (1286, 8)\n"
     ]
    }
   ],
   "source": [
    "# Remove Duplicaate\n",
    "df = df.drop_duplicates()\n",
    "print('\\nAfter removing duplicates:', df.shape)"
   ]
  },
  {
   "cell_type": "code",
   "execution_count": null,
   "id": "a4237851",
   "metadata": {},
   "outputs": [],
   "source": [
    "# Handle missing values\n",
    "# Fill numeric columns with median\n",
    "df['Rating'] = df['Rating'].fillna(df['Rating'].median())\n",
    "df['Reviews Count'] = df['Reviews Count'].fillna(df['Reviews Count'].median())\n",
    "\n",
    "# Fill categorical columns with mode \n",
    "for col in ['City', 'Property Type', 'Name', 'Location']:\n",
    "    if df[col].isnull().sum() > 0:\n",
    "        df[col] = df[col].fillna(df[col].mode()[0])\n"
   ]
  },
  {
   "cell_type": "code",
   "execution_count": 7,
   "id": "4f9a2565",
   "metadata": {},
   "outputs": [],
   "source": [
    "# Standardize text formatting\n",
    "text_columns = ['City', 'Property Type', 'Name', 'Location']\n",
    "for col in text_columns:\n",
    "    df[col] = df[col].str.strip().str.title()\n"
   ]
  },
  {
   "cell_type": "code",
   "execution_count": 8,
   "id": "c565d57e",
   "metadata": {},
   "outputs": [],
   "source": [
    "#  Ensure valid numeric ranges\n",
    "# Keep Rating between 0 and 10\n",
    "df = df[(df['Rating'] >= 0) & (df['Rating'] <= 10)]\n",
    "\n",
    "# Keep Reviews Count non-negative\n",
    "df = df[df['Reviews Count'] >= 0]\n"
   ]
  },
  {
   "cell_type": "code",
   "execution_count": 9,
   "id": "76780b41",
   "metadata": {},
   "outputs": [],
   "source": [
    "#  Validate image fields (keep both URL & Path for training)\n",
    "# Replace invalid URLs with NaN (instead of dropping rows)\n",
    "df['Image URL'] = df['Image URL'].apply(lambda x: x if str(x).startswith(\"http\") else None)\n",
    "\n",
    "# Replace empty paths with NaN\n",
    "df['Image Path'] = df['Image Path'].apply(lambda x: x if isinstance(x, str) and len(x.strip()) > 0 else None)\n",
    "\n"
   ]
  },
  {
   "cell_type": "code",
   "execution_count": 10,
   "id": "fe13a7da",
   "metadata": {},
   "outputs": [
    {
     "name": "stdout",
     "output_type": "stream",
     "text": [
      "\n",
      "Final Cleaned Dataset Shape: (1286, 8)\n",
      "      City Property Type                                               Name  \\\n",
      "0  Karachi     Apartment                                      Room For Rent   \n",
      "1  Karachi     Apartment  Prestige Comfort Apartments Separate Lounge Wi...   \n",
      "2  Karachi     Apartment                                           Ys Rooms   \n",
      "3  Karachi     Apartment                                   Prestige Comfort   \n",
      "4  Karachi     Apartment                                  Prestige Comforts   \n",
      "\n",
      "   Rating  Reviews Count Location  \\\n",
      "0     8.1            8.0  Karachi   \n",
      "1     8.1            8.0  Karachi   \n",
      "2     8.1            8.0  Karachi   \n",
      "3     8.1            8.0  Karachi   \n",
      "4     8.1            8.0  Karachi   \n",
      "\n",
      "                                           Image URL  \\\n",
      "0  https://cf.bstatic.com/xdata/images/hotel/squa...   \n",
      "1  https://cf.bstatic.com/xdata/images/hotel/squa...   \n",
      "2  https://cf.bstatic.com/xdata/images/hotel/squa...   \n",
      "3  https://cf.bstatic.com/xdata/images/hotel/squa...   \n",
      "4  https://cf.bstatic.com/xdata/images/hotel/squa...   \n",
      "\n",
      "                                          Image Path  \n",
      "0                 images_apartment\\Room_for_rent.jpg  \n",
      "1  images_apartment\\Prestige_comfort_apartments_s...  \n",
      "2                      images_apartment\\YS_Rooms.jpg  \n",
      "3              images_apartment\\Prestige_Comfort.jpg  \n",
      "4             images_apartment\\Prestige_comforts.jpg  \n"
     ]
    }
   ],
   "source": [
    "# Reset index\n",
    "df = df.reset_index(drop=True)\n",
    "print(\"\\nFinal Cleaned Dataset Shape:\", df.shape)\n",
    "print(df.head())\n"
   ]
  },
  {
   "cell_type": "code",
   "execution_count": 11,
   "id": "7b775322",
   "metadata": {},
   "outputs": [
    {
     "name": "stdout",
     "output_type": "stream",
     "text": [
      "\n",
      "✅ Cleaned dataset saved back to: property_booking.csv\n"
     ]
    }
   ],
   "source": [
    "# Step 8: Save cleaned dataset (overwrite original file)\n",
    "output_path = \"property_booking.csv\"\n",
    "df.to_csv(output_path, index=False, encoding=\"utf-8\")\n",
    "print(\"\\n✅ Cleaned dataset saved back to:\", output_path)\n"
   ]
  }
 ],
 "metadata": {
  "kernelspec": {
   "display_name": "venv",
   "language": "python",
   "name": "python3"
  },
  "language_info": {
   "codemirror_mode": {
    "name": "ipython",
    "version": 3
   },
   "file_extension": ".py",
   "mimetype": "text/x-python",
   "name": "python",
   "nbconvert_exporter": "python",
   "pygments_lexer": "ipython3",
   "version": "3.13.5"
  }
 },
 "nbformat": 4,
 "nbformat_minor": 5
}
