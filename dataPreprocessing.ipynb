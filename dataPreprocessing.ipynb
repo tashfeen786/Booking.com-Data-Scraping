{
 "cells": [
  {
   "cell_type": "code",
   "execution_count": null,
   "id": "28f0b1e6",
   "metadata": {},
   "outputs": [],
   "source": [
    "# Step 0: Import libraries and load dataset\n",
    "import pandas as pd\n",
    "\n",
    "file_path = \"property_booking.csv\"   # adjust path if needed\n",
    "df = pd.read_csv(file_path)\n",
    "\n",
    "print(\"Initial Dataset Shape:\", df.shape)\n",
    "print(df.head())\n"
   ]
  }
 ],
 "metadata": {
  "language_info": {
   "name": "python"
  }
 },
 "nbformat": 4,
 "nbformat_minor": 5
}
